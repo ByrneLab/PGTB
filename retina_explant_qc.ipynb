{
 "cells": [
  {
   "cell_type": "code",
   "execution_count": 11,
   "id": "5c589fb8",
   "metadata": {},
   "outputs": [],
   "source": [
    "# Load in DropletUtils - empty droplet detection\n",
    "# Load in scds - doublet detection\n",
    "# Load in scran - normalization \n",
    "\n",
    "suppressPackageStartupMessages(library(DropletUtils))\n",
    "suppressPackageStartupMessages(library(scds))\n",
    "library(scran)\n",
    "suppressPackageStartupMessages(library(tidyr))\n",
    "suppressPackageStartupMessages(library(data.table))"
   ]
  },
  {
   "cell_type": "code",
   "execution_count": 17,
   "id": "0fe65ce7",
   "metadata": {},
   "outputs": [],
   "source": [
    "run_qc <- function(file,name,replicate,tissue,outdir) {\n",
    "    # Read in CellRanger cell x gene matrix (unfiltered)\n",
    "    mtx = read10xCounts(file)\n",
    "    ###### EMPTY DROPLET REMOVAL ######\n",
    "    all_cells = counts(mtx)\n",
    "    # Identify empty droplets\n",
    "    cells_called = defaultDrops(all_cells,lower.prop=0.05)\n",
    "    # Remove empty droplets\n",
    "    real_cells  = all_cells[,cells_called]\n",
    "    print(\"Starting droplet count\")\n",
    "    print(ncol(all_cells))\n",
    "    print(\"Cells called after removing empty droplets\")\n",
    "    print(ncol(real_cells))\n",
    "    ###### DOUBLET REMOVAL ######\n",
    "    # load filtered cells into single cell experiment\n",
    "    sce = SingleCellExperiment(list(counts=real_cells))\n",
    "    # score singlets/doublets\n",
    "    sce_cell = cxds_bcds_hybrid(sce)\n",
    "    # identify singlets\n",
    "    singlets = colData(sce_cell)$hybrid_score<1.3\n",
    "    # only keep singlets (remove doublets)\n",
    "    singlet.counts =   counts(sce_cell)[, singlets]\n",
    "    # save data back to single cell experiment\n",
    "    sce_singlet = SingleCellExperiment(list(counts=singlet.counts))\n",
    "    print(\"Cells after removing doublets\")\n",
    "    print(ncol(singlet.counts))\n",
    "    ###### SAVE CELL INFORMATION ######\n",
    "    # Creating dataframe of umis per cell\n",
    "    depths = Matrix::colSums(counts(sce_singlet))\n",
    "    numi_df = data.frame(\"cell_id\"=mtx@colData@listData$Barcode[cells_called][singlets],\"nUMIs\"=depths)\n",
    "    # Add replicate info for when samples are eventually combined\n",
    "    numi_df$repli = rep(replicate,nrow(numi_df))\n",
    "    # Add tissue or region info for when samples are eventually combined\n",
    "    numi_df$region = rep(tissue,nrow(numi_df))\n",
    "    ###### NORMALIZE ######\n",
    "    # Run scran normalization\n",
    "    clusters <- quickCluster(sce_singlet, min.size=100)\n",
    "    sce_singlet <- computeSumFactors(sce_singlet, cluster=clusters)\n",
    "    sce_singlet = normalize(sce_singlet)\n",
    "    normalized_logcounts = as.matrix(sce_singlet@assays@data[[2]])\n",
    "    ###### EXPORT DATA ######\n",
    "    norm_counts_df = as.data.frame(t(normalized_logcounts))\n",
    "    numi_df_norm = unite(numi_df, \"full_cell_id\",cell_id,repli,region, sep = \"_\", remove = FALSE)\n",
    "    rownames(norm_counts_df) = numi_df_norm$full_cell_id\n",
    "    colnames(norm_counts_df) = rownames(counts(mtx))\n",
    "    fwrite(norm_counts_df,paste(outdir,name,\"_normalized_counts.csv\",sep=\"\"), row.names=TRUE)\n",
    "    fwrite(numi_df_norm,paste(outdir,name,\"_numis.csv\",sep=\"\"))\n",
    "}"
   ]
  },
  {
   "cell_type": "code",
   "execution_count": 24,
   "id": "6e57e6c7",
   "metadata": {},
   "outputs": [],
   "source": [
    "file = \"/ihome/lbyrne/mej85/pgtb_human_retina_explant/analysis/cellranger/LB1_BYR819A1/outs/raw_feature_bc_matrix/\"\n",
    "name = \"macula1\"\n",
    "replicate = \"1\"\n",
    "tissue = \"macula\"\n",
    "outdir = \"/ihome/lbyrne/mej85/pgtb_human_retina_explant/analysis/\""
   ]
  },
  {
   "cell_type": "code",
   "execution_count": 25,
   "id": "1384bc2c",
   "metadata": {},
   "outputs": [
    {
     "name": "stdout",
     "output_type": "stream",
     "text": [
      "[1] \"Starting droplet count\"\n",
      "[1] 1193183\n",
      "[1] \"Cells called after removing empty droplets\"\n",
      "[1] 1716\n",
      "[14:21:59] WARNING: amalgamation/../src/learner.cc:1061: Starting in XGBoost 1.3.0, the default evaluation metric used with the objective 'binary:logistic' was changed from 'error' to 'logloss'. Explicitly set eval_metric if you'd like to restore the old behavior.\n",
      "[1] \"Cells after removing doublets\"\n",
      "[1] 1505\n"
     ]
    }
   ],
   "source": [
    "suppressWarnings(run_qc(file,name,replicate,tissue,outdir))"
   ]
  },
  {
   "cell_type": "code",
   "execution_count": 21,
   "id": "97c299ac",
   "metadata": {},
   "outputs": [],
   "source": [
    "file = \"/ihome/lbyrne/mej85/pgtb_human_retina_explant/analysis/cellranger/LB4_BYR819A4/outs/raw_feature_bc_matrix/\"\n",
    "name = \"macula2\"\n",
    "replicate = \"2\"\n",
    "tissue = \"macula\"\n",
    "outdir = \"/ihome/lbyrne/mej85/pgtb_human_retina_explant/analysis/\""
   ]
  },
  {
   "cell_type": "code",
   "execution_count": 23,
   "id": "6ef873a7",
   "metadata": {},
   "outputs": [
    {
     "name": "stdout",
     "output_type": "stream",
     "text": [
      "[1] \"Starting droplet count\"\n",
      "[1] 1732316\n",
      "[1] \"Cells called after removing empty droplets\"\n",
      "[1] 3770\n",
      "[14:15:56] WARNING: amalgamation/../src/learner.cc:1061: Starting in XGBoost 1.3.0, the default evaluation metric used with the objective 'binary:logistic' was changed from 'error' to 'logloss'. Explicitly set eval_metric if you'd like to restore the old behavior.\n",
      "[1] \"Cells after removing doublets\"\n",
      "[1] 3309\n"
     ]
    }
   ],
   "source": [
    "suppressWarnings(run_qc(file,name,replicate,tissue,outdir))"
   ]
  }
 ],
 "metadata": {
  "kernelspec": {
   "display_name": "R",
   "language": "R",
   "name": "ir"
  },
  "language_info": {
   "codemirror_mode": "r",
   "file_extension": ".r",
   "mimetype": "text/x-r-source",
   "name": "R",
   "pygments_lexer": "r",
   "version": "3.6.1"
  }
 },
 "nbformat": 4,
 "nbformat_minor": 5
}
